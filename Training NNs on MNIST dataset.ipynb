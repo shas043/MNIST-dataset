{
 "cells": [
  {
   "cell_type": "markdown",
   "metadata": {},
   "source": [
    "#### Training NNs on MNIST dataset"
   ]
  },
  {
   "cell_type": "code",
   "execution_count": 2,
   "metadata": {},
   "outputs": [],
   "source": [
    "import numpy as np\n",
    "import matplotlib.pyplot as plt\n",
    "from tensorflow.keras.models import Sequential\n",
    "from tensorflow.keras.layers import Dense\n",
    "\n",
    "from tensorflow.keras.datasets import mnist\n",
    "(X_train, Y_train), (X_test, Y_test) = mnist.load_data()\n",
    "\n"
   ]
  },
  {
   "cell_type": "code",
   "execution_count": 4,
   "metadata": {},
   "outputs": [
    {
     "data": {
      "text/plain": [
       "(60000, 28, 28)"
      ]
     },
     "execution_count": 4,
     "metadata": {},
     "output_type": "execute_result"
    }
   ],
   "source": [
    "X_train.shape"
   ]
  },
  {
   "cell_type": "code",
   "execution_count": 5,
   "metadata": {},
   "outputs": [
    {
     "data": {
      "text/plain": [
       "(10000, 28, 28)"
      ]
     },
     "execution_count": 5,
     "metadata": {},
     "output_type": "execute_result"
    }
   ],
   "source": [
    "X_test.shape"
   ]
  },
  {
   "cell_type": "code",
   "execution_count": 6,
   "metadata": {},
   "outputs": [
    {
     "data": {
      "text/plain": [
       "array([7, 2, 1, ..., 4, 5, 6], dtype=uint8)"
      ]
     },
     "execution_count": 6,
     "metadata": {},
     "output_type": "execute_result"
    }
   ],
   "source": [
    "Y_test"
   ]
  },
  {
   "cell_type": "code",
   "execution_count": 3,
   "metadata": {},
   "outputs": [
    {
     "data": {
      "text/plain": [
       "<matplotlib.image.AxesImage at 0x7fce6d700710>"
      ]
     },
     "execution_count": 3,
     "metadata": {},
     "output_type": "execute_result"
    },
    {
     "data": {
      "image/png": "[encoded data removed]",
      "text/plain": [
       "<Figure size 432x288 with 1 Axes>"
      ]
     },
     "metadata": {
      "needs_background": "light"
     },
     "output_type": "display_data"
    }
   ],
   "source": [
    "digit=X_train[20]\n",
    "import matplotlib.pyplot as plt\n",
    "plt.imshow(digit, cmap=plt.cm.binary)"
   ]
  },
  {
   "cell_type": "code",
   "execution_count": 7,
   "metadata": {},
   "outputs": [],
   "source": [
    "#Preparing and reshaping data\n",
    "X_train = X_train / 255\n",
    "X_test = X_test / 255\n",
    "train_pixels=X_train.shape[1] * X_train.shape[2]\n",
    "test_pixels=X_test.shape[1] * X_test.shape[2]\n",
    "X_train=np.reshape(X_train, (X_train.shape[0],train_pixels))\n",
    "X_test=np.reshape(X_test, (X_test.shape[0],test_pixels))\n",
    "\n",
    "#Encoding labels\n",
    "from tensorflow.keras.utils import to_categorical\n",
    "num_classes = 10\n",
    "Y_train_dummy = to_categorical(Y_train, num_classes)\n",
    "Y_test_dummy = to_categorical(Y_test, num_classes)\n",
    "\n"
   ]
  },
  {
   "cell_type": "code",
   "execution_count": 14,
   "metadata": {},
   "outputs": [],
   "source": [
    "#Model architecture\n",
    "model = Sequential()\n",
    "model.add(Dense(512, activation=\"relu\", input_dim=train_pixels))\n",
    "model.add(Dense(256, activation=\"relu\"))\n",
    "model.add(Dense(128, activation=\"relu\"))\n",
    "model.add(Dense(num_classes, activation=\"softmax\"))\n"
   ]
  },
  {
   "cell_type": "code",
   "execution_count": 16,
   "metadata": {},
   "outputs": [
    {
     "name": "stdout",
     "output_type": "stream",
     "text": [
      "Train on 60000 samples\n",
      "Epoch 1/10\n",
      "60000/60000 [==============================] - 12s 205us/sample - loss: 0.5504 - accuracy: 0.8553\n",
      "Epoch 2/10\n",
      "60000/60000 [==============================] - 13s 215us/sample - loss: 0.2361 - accuracy: 0.9321\n",
      "Epoch 3/10\n",
      "60000/60000 [==============================] - 11s 190us/sample - loss: 0.1821 - accuracy: 0.9469\n",
      "Epoch 4/10\n",
      "60000/60000 [==============================] - 11s 181us/sample - loss: 0.1490 - accuracy: 0.9567\n",
      "Epoch 5/10\n",
      "60000/60000 [==============================] - 12s 201us/sample - loss: 0.1264 - accuracy: 0.9632\n",
      "Epoch 6/10\n",
      "60000/60000 [==============================] - 14s 239us/sample - loss: 0.1086 - accuracy: 0.9686\n",
      "Epoch 7/10\n",
      "60000/60000 [==============================] - 13s 217us/sample - loss: 0.0953 - accuracy: 0.9728\n",
      "Epoch 8/10\n",
      "60000/60000 [==============================] - 13s 219us/sample - loss: 0.0842 - accuracy: 0.9754\n",
      "Epoch 9/10\n",
      "60000/60000 [==============================] - 12s 208us/sample - loss: 0.0743 - accuracy: 0.9790\n",
      "Epoch 10/10\n",
      "60000/60000 [==============================] - 12s 201us/sample - loss: 0.0663 - accuracy: 0.9808\n"
     ]
    },
    {
     "data": {
      "text/plain": [
       "<tensorflow.python.keras.callbacks.History at 0x7fce4e17cd50>"
      ]
     },
     "execution_count": 16,
     "metadata": {},
     "output_type": "execute_result"
    }
   ],
   "source": [
    "#Compilation\n",
    "model.compile(loss=\"categorical_crossentropy\", optimizer=\"sgd\", metrics=[\"accuracy\"])\n",
    "\n",
    "#Model training\n",
    "model.fit(X_train, Y_train_dummy, epochs=10)"
   ]
  },
  {
   "cell_type": "code",
   "execution_count": 23,
   "metadata": {},
   "outputs": [
    {
     "name": "stdout",
     "output_type": "stream",
     "text": [
      "10000/1 - 1s - loss: 0.0476 - accuracy: 0.9712\n"
     ]
    }
   ],
   "source": [
    "from keras.utils import to_categorical\n",
    "Y_test = to_categorical(Y_test)\n",
    "\n",
    "loss_and_metrics = model.evaluate(X_test, Y_test, verbose=2)"
   ]
  },
  {
   "cell_type": "markdown",
   "metadata": {},
   "source": [
    "#### Training accuracy - 98.08% Test accuracy - 97.12    \n",
    "Test accuracy less than training accuracy due to overfitting. Adding a dropout layer can be used as experiment"
   ]
  },
  {
   "cell_type": "code",
   "execution_count": null,
   "metadata": {},
   "outputs": [],
   "source": []
  }
 ],
 "metadata": {
  "kernelspec": {
   "display_name": "Python 3",
   "language": "python",
   "name": "python3"
  },
  "language_info": {
   "codemirror_mode": {
    "name": "ipython",
    "version": 3
   },
   "file_extension": ".py",
   "mimetype": "text/x-python",
   "name": "python",
   "nbconvert_exporter": "python",
   "pygments_lexer": "ipython3",
   "version": "3.7.4"
  }
 },
 "nbformat": 4,
 "nbformat_minor": 2
}
